{
 "cells": [
  {
   "cell_type": "code",
   "execution_count": 1,
   "metadata": {},
   "outputs": [
    {
     "name": "stdout",
     "output_type": "stream",
     "text": [
      "Using matplotlib backend: Qt5Agg\n"
     ]
    }
   ],
   "source": [
    "# Importation des librairies\n",
    "%matplotlib\n",
    "import numpy as np\n",
    "import matplotlib.pyplot as plt\n",
    "import pandas as pd\n",
    "from sklearn.model_selection import train_test_split\n",
    "from sklearn.preprocessing import StandardScaler\n",
    "from sklearn.linear_model import LogisticRegression\n",
    "from sklearn.metrics import confusion_matrix\n",
    "from sklearn.metrics import classification_report\n",
    "from matplotlib.colors import ListedColormap\n",
    "from mpl_toolkits.mplot3d import Axes3D\n",
    "import seaborn as sns"
   ]
  },
  {
   "cell_type": "code",
   "execution_count": 2,
   "metadata": {},
   "outputs": [],
   "source": [
    "df = pd.read_csv(r\"C:/Users/Aboubakr Ben Bach/Desktop/ML/python/Classification/ChurnData.csv\")"
   ]
  },
  {
   "cell_type": "code",
   "execution_count": 3,
   "metadata": {},
   "outputs": [
    {
     "data": {
      "text/html": [
       "<div>\n",
       "<style scoped>\n",
       "    .dataframe tbody tr th:only-of-type {\n",
       "        vertical-align: middle;\n",
       "    }\n",
       "\n",
       "    .dataframe tbody tr th {\n",
       "        vertical-align: top;\n",
       "    }\n",
       "\n",
       "    .dataframe thead th {\n",
       "        text-align: right;\n",
       "    }\n",
       "</style>\n",
       "<table border=\"1\" class=\"dataframe\">\n",
       "  <thead>\n",
       "    <tr style=\"text-align: right;\">\n",
       "      <th></th>\n",
       "      <th>tenure</th>\n",
       "      <th>age</th>\n",
       "      <th>address</th>\n",
       "      <th>income</th>\n",
       "      <th>ed</th>\n",
       "      <th>employ</th>\n",
       "      <th>equip</th>\n",
       "      <th>callcard</th>\n",
       "      <th>wireless</th>\n",
       "      <th>longmon</th>\n",
       "      <th>...</th>\n",
       "      <th>pager</th>\n",
       "      <th>internet</th>\n",
       "      <th>callwait</th>\n",
       "      <th>confer</th>\n",
       "      <th>ebill</th>\n",
       "      <th>loglong</th>\n",
       "      <th>logtoll</th>\n",
       "      <th>lninc</th>\n",
       "      <th>custcat</th>\n",
       "      <th>churn</th>\n",
       "    </tr>\n",
       "  </thead>\n",
       "  <tbody>\n",
       "    <tr>\n",
       "      <td>0</td>\n",
       "      <td>11.0</td>\n",
       "      <td>33.0</td>\n",
       "      <td>7.0</td>\n",
       "      <td>136.0</td>\n",
       "      <td>5.0</td>\n",
       "      <td>5.0</td>\n",
       "      <td>0.0</td>\n",
       "      <td>1.0</td>\n",
       "      <td>1.0</td>\n",
       "      <td>4.40</td>\n",
       "      <td>...</td>\n",
       "      <td>1.0</td>\n",
       "      <td>0.0</td>\n",
       "      <td>1.0</td>\n",
       "      <td>1.0</td>\n",
       "      <td>0.0</td>\n",
       "      <td>1.482</td>\n",
       "      <td>3.033</td>\n",
       "      <td>4.913</td>\n",
       "      <td>4.0</td>\n",
       "      <td>1.0</td>\n",
       "    </tr>\n",
       "    <tr>\n",
       "      <td>1</td>\n",
       "      <td>33.0</td>\n",
       "      <td>33.0</td>\n",
       "      <td>12.0</td>\n",
       "      <td>33.0</td>\n",
       "      <td>2.0</td>\n",
       "      <td>0.0</td>\n",
       "      <td>0.0</td>\n",
       "      <td>0.0</td>\n",
       "      <td>0.0</td>\n",
       "      <td>9.45</td>\n",
       "      <td>...</td>\n",
       "      <td>0.0</td>\n",
       "      <td>0.0</td>\n",
       "      <td>0.0</td>\n",
       "      <td>0.0</td>\n",
       "      <td>0.0</td>\n",
       "      <td>2.246</td>\n",
       "      <td>3.240</td>\n",
       "      <td>3.497</td>\n",
       "      <td>1.0</td>\n",
       "      <td>1.0</td>\n",
       "    </tr>\n",
       "    <tr>\n",
       "      <td>2</td>\n",
       "      <td>23.0</td>\n",
       "      <td>30.0</td>\n",
       "      <td>9.0</td>\n",
       "      <td>30.0</td>\n",
       "      <td>1.0</td>\n",
       "      <td>2.0</td>\n",
       "      <td>0.0</td>\n",
       "      <td>0.0</td>\n",
       "      <td>0.0</td>\n",
       "      <td>6.30</td>\n",
       "      <td>...</td>\n",
       "      <td>0.0</td>\n",
       "      <td>0.0</td>\n",
       "      <td>0.0</td>\n",
       "      <td>1.0</td>\n",
       "      <td>0.0</td>\n",
       "      <td>1.841</td>\n",
       "      <td>3.240</td>\n",
       "      <td>3.401</td>\n",
       "      <td>3.0</td>\n",
       "      <td>0.0</td>\n",
       "    </tr>\n",
       "    <tr>\n",
       "      <td>3</td>\n",
       "      <td>38.0</td>\n",
       "      <td>35.0</td>\n",
       "      <td>5.0</td>\n",
       "      <td>76.0</td>\n",
       "      <td>2.0</td>\n",
       "      <td>10.0</td>\n",
       "      <td>1.0</td>\n",
       "      <td>1.0</td>\n",
       "      <td>1.0</td>\n",
       "      <td>6.05</td>\n",
       "      <td>...</td>\n",
       "      <td>1.0</td>\n",
       "      <td>1.0</td>\n",
       "      <td>1.0</td>\n",
       "      <td>1.0</td>\n",
       "      <td>1.0</td>\n",
       "      <td>1.800</td>\n",
       "      <td>3.807</td>\n",
       "      <td>4.331</td>\n",
       "      <td>4.0</td>\n",
       "      <td>0.0</td>\n",
       "    </tr>\n",
       "    <tr>\n",
       "      <td>4</td>\n",
       "      <td>7.0</td>\n",
       "      <td>35.0</td>\n",
       "      <td>14.0</td>\n",
       "      <td>80.0</td>\n",
       "      <td>2.0</td>\n",
       "      <td>15.0</td>\n",
       "      <td>0.0</td>\n",
       "      <td>1.0</td>\n",
       "      <td>0.0</td>\n",
       "      <td>7.10</td>\n",
       "      <td>...</td>\n",
       "      <td>0.0</td>\n",
       "      <td>0.0</td>\n",
       "      <td>1.0</td>\n",
       "      <td>1.0</td>\n",
       "      <td>0.0</td>\n",
       "      <td>1.960</td>\n",
       "      <td>3.091</td>\n",
       "      <td>4.382</td>\n",
       "      <td>3.0</td>\n",
       "      <td>0.0</td>\n",
       "    </tr>\n",
       "  </tbody>\n",
       "</table>\n",
       "<p>5 rows × 28 columns</p>\n",
       "</div>"
      ],
      "text/plain": [
       "   tenure   age  address  income   ed  employ  equip  callcard  wireless  \\\n",
       "0    11.0  33.0      7.0   136.0  5.0     5.0    0.0       1.0       1.0   \n",
       "1    33.0  33.0     12.0    33.0  2.0     0.0    0.0       0.0       0.0   \n",
       "2    23.0  30.0      9.0    30.0  1.0     2.0    0.0       0.0       0.0   \n",
       "3    38.0  35.0      5.0    76.0  2.0    10.0    1.0       1.0       1.0   \n",
       "4     7.0  35.0     14.0    80.0  2.0    15.0    0.0       1.0       0.0   \n",
       "\n",
       "   longmon  ...  pager  internet  callwait  confer  ebill  loglong  logtoll  \\\n",
       "0     4.40  ...    1.0       0.0       1.0     1.0    0.0    1.482    3.033   \n",
       "1     9.45  ...    0.0       0.0       0.0     0.0    0.0    2.246    3.240   \n",
       "2     6.30  ...    0.0       0.0       0.0     1.0    0.0    1.841    3.240   \n",
       "3     6.05  ...    1.0       1.0       1.0     1.0    1.0    1.800    3.807   \n",
       "4     7.10  ...    0.0       0.0       1.0     1.0    0.0    1.960    3.091   \n",
       "\n",
       "   lninc  custcat  churn  \n",
       "0  4.913      4.0    1.0  \n",
       "1  3.497      1.0    1.0  \n",
       "2  3.401      3.0    0.0  \n",
       "3  4.331      4.0    0.0  \n",
       "4  4.382      3.0    0.0  \n",
       "\n",
       "[5 rows x 28 columns]"
      ]
     },
     "execution_count": 3,
     "metadata": {},
     "output_type": "execute_result"
    }
   ],
   "source": [
    "# Visualisation des données\n",
    "df.head()\n"
   ]
  },
  {
   "cell_type": "code",
   "execution_count": 4,
   "metadata": {},
   "outputs": [
    {
     "data": {
      "text/plain": [
       "<mpl_toolkits.mplot3d.art3d.Path3DCollection at 0xc936624fc8>"
      ]
     },
     "execution_count": 4,
     "metadata": {},
     "output_type": "execute_result"
    },
    {
     "data": {
      "image/png": "[encoded data removed]",
      "text/plain": [
       "<Figure size 432x288 with 1 Axes>"
      ]
     },
     "metadata": {
      "needs_background": "light"
     },
     "output_type": "display_data"
    }
   ],
   "source": [
    "ax = plt.axes(projection='3d')\n",
    "ax.scatter(df.tenure,df.age,df.income, c=df.churn)"
   ]
  },
  {
   "cell_type": "code",
   "execution_count": 6,
   "metadata": {},
   "outputs": [
    {
     "data": {
      "text/plain": [
       "array([[ 11.,  33.,   7., 136.,   5.,   5.,   0.],\n",
       "       [ 33.,  33.,  12.,  33.,   2.,   0.,   0.],\n",
       "       [ 23.,  30.,   9.,  30.,   1.,   2.,   0.],\n",
       "       [ 38.,  35.,   5.,  76.,   2.,  10.,   1.],\n",
       "       [  7.,  35.,  14.,  80.,   2.,  15.,   0.]])"
      ]
     },
     "execution_count": 6,
     "metadata": {},
     "output_type": "execute_result"
    }
   ],
   "source": [
    "X = np.asarray(df[['tenure', 'age', 'address', 'income', 'ed', 'employ', 'equip']])\n",
    "X[0:5]"
   ]
  },
  {
   "cell_type": "code",
   "execution_count": 7,
   "metadata": {},
   "outputs": [
    {
     "data": {
      "text/plain": [
       "array([1., 1., 0., 0., 0.])"
      ]
     },
     "execution_count": 7,
     "metadata": {},
     "output_type": "execute_result"
    }
   ],
   "source": [
    "y = np.asarray(df['churn'])\n",
    "y [0:5]"
   ]
  },
  {
   "cell_type": "code",
   "execution_count": 8,
   "metadata": {},
   "outputs": [],
   "source": [
    "# Diviser le dataset entre le Training set et le Test set\n",
    "X_train, X_test, y_train, y_test = train_test_split(X, y, test_size = 0.25, random_state = 0)"
   ]
  },
  {
   "cell_type": "code",
   "execution_count": 9,
   "metadata": {},
   "outputs": [
    {
     "data": {
      "text/plain": [
       "array([[ 1.36586836e+00, -1.23104871e+00, -7.66885855e-01,\n",
       "        -3.51515038e-03,  1.33335087e-01, -8.94718946e-01,\n",
       "         1.11301661e+00],\n",
       "       [-8.77346101e-01,  6.98326718e-01,  6.28102408e-01,\n",
       "        -2.46338038e-01, -6.35905798e-01, -5.49119353e-01,\n",
       "         1.11301661e+00],\n",
       "       [-1.29794881e+00, -1.07026743e+00, -8.74192645e-01,\n",
       "        -2.60213632e-01,  1.33335087e-01, -8.94718946e-01,\n",
       "        -8.98459190e-01],\n",
       "       [ 1.27240109e+00,  2.86887408e+00,  9.50022776e-01,\n",
       "        -2.87964819e-01,  1.33335087e-01,  9.48478883e-01,\n",
       "        -8.98459190e-01],\n",
       "       [ 3.84462034e-01, -9.09486141e-01, -7.66885855e-01,\n",
       "        -3.01840413e-01, -1.40514668e+00,  3.72479561e-01,\n",
       "        -8.98459190e-01],\n",
       "       [-1.29607947e-01,  2.96373504e-01, -1.23045119e-01,\n",
       "         8.63709449e-01, -6.35905798e-01,  1.63967807e+00,\n",
       "        -8.98459190e-01],\n",
       "       [ 1.55280290e+00,  9.39498647e-01,  6.28102408e-01,\n",
       "         3.01747909e-01, -1.40514668e+00,  1.63967807e+00,\n",
       "        -8.98459190e-01],\n",
       "       [-1.34468245e+00, -9.09486141e-01, -7.66885855e-01,\n",
       "        -3.98969568e-01, -6.35905798e-01, -5.49119353e-01,\n",
       "        -8.98459190e-01],\n",
       "       [ 9.91999284e-01,  7.78717361e-01, -1.08880622e+00,\n",
       "         2.42360368e-02, -6.35905798e-01,  1.63967807e+00,\n",
       "        -8.98459190e-01],\n",
       "       [-8.30612466e-01, -1.05579711e-01,  9.15684603e-02,\n",
       "        -2.18586851e-01,  9.02575971e-01,  2.68799683e-02,\n",
       "         1.11301661e+00],\n",
       "       [ 1.17893382e+00,  3.76764147e-01,  1.27194314e+00,\n",
       "         2.80934518e-01,  9.02575971e-01,  1.42079833e-01,\n",
       "         1.11301661e+00],\n",
       "       [ 1.73973744e+00,  2.78848344e+00,  3.95461288e+00,\n",
       "        -4.33658552e-01, -6.35905798e-01, -4.33919489e-01,\n",
       "        -8.98459190e-01],\n",
       "       [ 9.91999284e-01,  1.01988929e+00,  1.27194314e+00,\n",
       "         1.62991973e-01,  1.67181686e+00,  4.87679426e-01,\n",
       "         1.11301661e+00],\n",
       "       [ 1.17893382e+00,  1.01988929e+00,  1.16463635e+00,\n",
       "         6.55575545e-01, -1.40514668e+00,  3.13727631e+00,\n",
       "        -8.98459190e-01],\n",
       "       [ 8.05064746e-01,  1.74340508e+00,  1.27194314e+00,\n",
       "        -2.81027022e-01,  9.02575971e-01,  8.33279019e-01,\n",
       "        -8.98459190e-01],\n",
       "       [-1.20448154e+00, -1.55261128e+00, -1.08880622e+00,\n",
       "        -4.12845161e-01, -6.35905798e-01, -8.94718946e-01,\n",
       "        -8.98459190e-01],\n",
       "       [-8.28743121e-02,  1.10027993e+00,  7.35409197e-01,\n",
       "        -1.35333289e-01,  9.02575971e-01, -6.64319218e-01,\n",
       "         1.11301661e+00],\n",
       "       [ 1.73973744e+00,  2.78848344e+00,  2.77423820e+00,\n",
       "        -3.01840413e-01, -1.40514668e+00,  3.94367536e+00,\n",
       "        -8.98459190e-01],\n",
       "       [-3.16542485e-01, -9.09486141e-01, -7.66885855e-01,\n",
       "        -3.71218381e-01,  1.33335087e-01, -5.49119353e-01,\n",
       "        -8.98459190e-01],\n",
       "       [ 3.84462034e-01, -1.07026743e+00, -8.74192645e-01,\n",
       "        -3.85093974e-01, -6.35905798e-01, -1.00991881e+00,\n",
       "        -8.98459190e-01],\n",
       "       [ 7.58331111e-01,  6.98326718e-01,  1.91578388e+00,\n",
       "        -2.18586851e-01, -1.40514668e+00,  7.18079154e-01,\n",
       "        -8.98459190e-01],\n",
       "       [ 1.55280290e+00,  1.35592218e-01,  5.20795618e-01,\n",
       "         8.66762080e-02,  9.02575971e-01,  2.57279697e-01,\n",
       "         1.11301661e+00],\n",
       "       [ 4.77929303e-01,  2.06496765e+00,  3.41807893e+00,\n",
       "         4.68255032e-01, -6.35905798e-01,  3.72479561e-01,\n",
       "        -8.98459190e-01],\n",
       "       [-1.15774791e+00, -1.63300193e+00, -1.08880622e+00,\n",
       "        -3.92031771e-01, -6.35905798e-01, -1.12511868e+00,\n",
       "        -8.98459190e-01],\n",
       "       [ 1.50606927e+00,  1.58262379e+00,  2.23770425e+00,\n",
       "         1.14427395e-01, -1.40514668e+00,  1.29407848e+00,\n",
       "         1.11301661e+00],\n",
       "       [-1.06428064e+00, -7.48704855e-01, -3.37658698e-01,\n",
       "        -4.05907365e-01,  9.02575971e-01, -6.64319218e-01,\n",
       "         1.11301661e+00],\n",
       "       [ 7.58331111e-01,  4.57154790e-01, -3.37658698e-01,\n",
       "         2.11556550e-01, -6.35905798e-01,  1.29407848e+00,\n",
       "        -8.98459190e-01],\n",
       "       [-3.61406774e-02, -2.51890681e-02,  1.05732957e+00,\n",
       "        -3.71218381e-01,  9.02575971e-01, -8.83198960e-02,\n",
       "         1.11301661e+00],\n",
       "       [-5.03477024e-01, -4.27142283e-01, -1.23045119e-01,\n",
       "        -2.46338038e-01,  1.67181686e+00, -4.33919489e-01,\n",
       "         1.11301661e+00],\n",
       "       [-8.28743121e-02, -5.87923569e-01,  9.15684603e-02,\n",
       "        -2.39400241e-01,  9.02575971e-01, -3.18719625e-01,\n",
       "         1.11301661e+00],\n",
       "       [-3.63276120e-01,  8.59108004e-01, -8.74192645e-01,\n",
       "         2.42360368e-02,  1.67181686e+00,  1.42079833e-01,\n",
       "         1.11301661e+00],\n",
       "       [-9.24079735e-01, -4.27142283e-01, -6.59579066e-01,\n",
       "        -2.94902616e-01,  1.33335087e-01, -2.03519760e-01,\n",
       "         1.11301661e+00],\n",
       "       [-1.39141608e+00,  2.15982861e-01,  5.20795618e-01,\n",
       "        -3.12663376e-02,  1.33335087e-01,  8.33279019e-01,\n",
       "        -8.98459190e-01],\n",
       "       [-1.39141608e+00,  5.37545433e-01, -4.44965487e-01,\n",
       "        -2.11649054e-01, -1.40514668e+00, -4.33919489e-01,\n",
       "        -8.98459190e-01],\n",
       "       [ 4.77929303e-01, -1.47222064e+00, -9.81499434e-01,\n",
       "        -2.81027022e-01,  9.02575971e-01, -1.12511868e+00,\n",
       "         1.11301661e+00],\n",
       "       [ 1.45933563e+00,  7.78717361e-01, -9.81499434e-01,\n",
       "         1.77949863e+00,  1.67181686e+00,  1.63967807e+00,\n",
       "        -8.98459190e-01],\n",
       "       [-5.03477024e-01,  4.57154790e-01,  9.15684603e-02,\n",
       "        -2.32462445e-01, -6.35905798e-01, -4.33919489e-01,\n",
       "        -8.98459190e-01],\n",
       "       [-1.29794881e+00, -4.27142283e-01,  3.06182039e-01,\n",
       "         2.42360368e-02, -6.35905798e-01,  6.02879290e-01,\n",
       "        -8.98459190e-01],\n",
       "       [-1.15774791e+00, -5.87923569e-01, -9.81499434e-01,\n",
       "        -7.28931183e-02,  1.33335087e-01, -8.83198960e-02,\n",
       "        -8.98459190e-01],\n",
       "       [-7.37145197e-01, -1.15065807e+00, -9.81499434e-01,\n",
       "        -1.97773461e-01,  1.33335087e-01, -1.12511868e+00,\n",
       "        -8.98459190e-01],\n",
       "       [ 8.98532015e-01,  1.35592218e-01, -1.19611301e+00,\n",
       "        -1.49208883e-01,  9.02575971e-01, -8.94718946e-01,\n",
       "         1.11301661e+00],\n",
       "       [ 1.04060226e-01,  2.86887408e+00,  2.88154499e+00,\n",
       "         2.80934518e-01,  9.02575971e-01,  1.29407848e+00,\n",
       "        -8.98459190e-01],\n",
       "       [ 1.13220019e+00,  2.15982861e-01, -7.66885855e-01,\n",
       "         1.69929770e-01, -6.35905798e-01,  1.40927834e+00,\n",
       "        -8.98459190e-01],\n",
       "       [-8.30612466e-01,  1.35592218e-01, -5.52272276e-01,\n",
       "        -3.15716006e-01, -6.35905798e-01, -8.94718946e-01,\n",
       "        -8.98459190e-01],\n",
       "       [ 1.69300380e+00,  1.01988929e+00,  1.91578388e+00,\n",
       "        -1.97773461e-01,  9.02575971e-01, -1.12511868e+00,\n",
       "        -8.98459190e-01],\n",
       "       [-1.34468245e+00, -1.31143936e+00, -9.81499434e-01,\n",
       "        -3.36529397e-01, -1.40514668e+00, -5.49119353e-01,\n",
       "        -8.98459190e-01],\n",
       "       [ 1.05929572e-02,  7.78717361e-01,  1.59386351e+00,\n",
       "         4.40503845e-01, -6.35905798e-01,  1.29407848e+00,\n",
       "        -8.98459190e-01],\n",
       "       [ 5.24662938e-01,  3.76764147e-01,  9.15684603e-02,\n",
       "         1.35240786e-01,  1.33335087e-01,  8.33279019e-01,\n",
       "         1.11301661e+00],\n",
       "       [-5.50210658e-01,  7.78717361e-01, -1.08880622e+00,\n",
       "         5.16819609e-01,  9.02575971e-01, -2.03519760e-01,\n",
       "        -8.98459190e-01],\n",
       "       [ 1.31913473e+00, -2.66360997e-01, -1.08880622e+00,\n",
       "        -2.18586851e-01,  9.02575971e-01, -8.83198960e-02,\n",
       "         1.11301661e+00]])"
      ]
     },
     "execution_count": 9,
     "metadata": {},
     "output_type": "execute_result"
    }
   ],
   "source": [
    "# Feature Scaling\n",
    "sc = StandardScaler()\n",
    "X_train = sc.fit_transform(X_train)\n",
    "X_test = sc.transform(X_test)\n",
    "X_test\n"
   ]
  },
  {
   "cell_type": "code",
   "execution_count": 10,
   "metadata": {},
   "outputs": [
    {
     "data": {
      "text/plain": [
       "LogisticRegression(C=1.0, class_weight=None, dual=False, fit_intercept=True,\n",
       "                   intercept_scaling=1, l1_ratio=None, max_iter=100,\n",
       "                   multi_class='warn', n_jobs=None, penalty='l2',\n",
       "                   random_state=0, solver='liblinear', tol=0.0001, verbose=0,\n",
       "                   warm_start=False)"
      ]
     },
     "execution_count": 10,
     "metadata": {},
     "output_type": "execute_result"
    }
   ],
   "source": [
    "# Construction du modèle\n",
    "classifier = LogisticRegression(random_state = 0, solver='liblinear')\n",
    "classifier.fit(X_train, y_train)"
   ]
  },
  {
   "cell_type": "code",
   "execution_count": 17,
   "metadata": {},
   "outputs": [
    {
     "data": {
      "text/plain": [
       "0.78"
      ]
     },
     "execution_count": 17,
     "metadata": {},
     "output_type": "execute_result"
    }
   ],
   "source": [
    "# Faire de nouvelles prédictions\n",
    "y_pred = classifier.predict(X_test)\n",
    "classifier.score(X_test,y_test)"
   ]
  },
  {
   "cell_type": "code",
   "execution_count": 15,
   "metadata": {},
   "outputs": [
    {
     "data": {
      "text/plain": [
       "array([[0.67777885, 0.32222115],\n",
       "       [0.52570298, 0.47429702],\n",
       "       [0.53317206, 0.46682794],\n",
       "       [0.96689191, 0.03310809],\n",
       "       [0.89850918, 0.10149082],\n",
       "       [0.91702861, 0.08297139],\n",
       "       [0.97667969, 0.02332031],\n",
       "       [0.62624655, 0.37375345],\n",
       "       [0.96899002, 0.03100998],\n",
       "       [0.40158773, 0.59841227],\n",
       "       [0.69585964, 0.30414036],\n",
       "       [0.93772979, 0.06227021],\n",
       "       [0.68581725, 0.31418275],\n",
       "       [0.98070135, 0.01929865],\n",
       "       [0.90632052, 0.09367948],\n",
       "       [0.58045195, 0.41954805],\n",
       "       [0.53533514, 0.46466486],\n",
       "       [0.99127354, 0.00872646],\n",
       "       [0.70725192, 0.29274808],\n",
       "       [0.80318322, 0.19681678],\n",
       "       [0.9232482 , 0.0767518 ],\n",
       "       [0.76368023, 0.23631977],\n",
       "       [0.89392837, 0.10607163],\n",
       "       [0.5619828 , 0.4380172 ],\n",
       "       [0.92008551, 0.07991449],\n",
       "       [0.28367055, 0.71632945],\n",
       "       [0.94764074, 0.05235926],\n",
       "       [0.45998668, 0.54001332],\n",
       "       [0.33298176, 0.66701824],\n",
       "       [0.44253784, 0.55746216],\n",
       "       [0.56752859, 0.43247141],\n",
       "       [0.44961438, 0.55038562],\n",
       "       [0.69214852, 0.30785148],\n",
       "       [0.78291309, 0.21708691],\n",
       "       [0.44430391, 0.55569609],\n",
       "       [0.95403677, 0.04596323],\n",
       "       [0.80167199, 0.19832801],\n",
       "       [0.7075955 , 0.2924045 ],\n",
       "       [0.67043397, 0.32956603],\n",
       "       [0.60034967, 0.39965033],\n",
       "       [0.68595949, 0.31404051],\n",
       "       [0.88765574, 0.11234426],\n",
       "       [0.95993794, 0.04006206],\n",
       "       [0.74445556, 0.25554444],\n",
       "       [0.85247016, 0.14752984],\n",
       "       [0.66793163, 0.33206837],\n",
       "       [0.8911759 , 0.1088241 ],\n",
       "       [0.76831067, 0.23168933],\n",
       "       [0.79655327, 0.20344673],\n",
       "       [0.75516359, 0.24483641]])"
      ]
     },
     "execution_count": 15,
     "metadata": {},
     "output_type": "execute_result"
    }
   ],
   "source": [
    "y_pred = classifier.predict_proba(X_test)\n",
    "y_pred"
   ]
  },
  {
   "cell_type": "code",
   "execution_count": 18,
   "metadata": {},
   "outputs": [
    {
     "name": "stdout",
     "output_type": "stream",
     "text": [
      "[[35  3]\n",
      " [ 8  4]]\n"
     ]
    }
   ],
   "source": [
    "# Matrice de confusion\n",
    "\n",
    "cm = confusion_matrix(y_test, y_pred)\n",
    "print(cm)\n",
    "\n",
    "#print(classification_report(y_test, y_pred))"
   ]
  },
  {
   "cell_type": "code",
   "execution_count": 13,
   "metadata": {},
   "outputs": [
    {
     "ename": "ValueError",
     "evalue": "X has 2 features per sample; expecting 7",
     "output_type": "error",
     "traceback": [
      "\u001b[1;31m---------------------------------------------------------------------------\u001b[0m",
      "\u001b[1;31mValueError\u001b[0m                                Traceback (most recent call last)",
      "\u001b[1;32m<ipython-input-13-54725873ec2c>\u001b[0m in \u001b[0;36m<module>\u001b[1;34m\u001b[0m\n\u001b[0;32m      4\u001b[0m X1, X2 = np.meshgrid(np.arange(start = X_set[:, 0].min() - 1, stop = X_set[:, 0].max() + 1, step = 0.01),\n\u001b[0;32m      5\u001b[0m                      np.arange(start = X_set[:, 1].min() - 1, stop = X_set[:, 1].max() + 1, step = 0.01))\n\u001b[1;32m----> 6\u001b[1;33m plt.contourf(X1, X2, classifier.predict(np.array([X1.ravel(), X2.ravel()]).T).reshape(X1.shape),\n\u001b[0m\u001b[0;32m      7\u001b[0m              alpha = 0.4, cmap = ListedColormap(('red', 'green')))\n\u001b[0;32m      8\u001b[0m \u001b[0mplt\u001b[0m\u001b[1;33m.\u001b[0m\u001b[0mxlim\u001b[0m\u001b[1;33m(\u001b[0m\u001b[0mX1\u001b[0m\u001b[1;33m.\u001b[0m\u001b[0mmin\u001b[0m\u001b[1;33m(\u001b[0m\u001b[1;33m)\u001b[0m\u001b[1;33m,\u001b[0m \u001b[0mX1\u001b[0m\u001b[1;33m.\u001b[0m\u001b[0mmax\u001b[0m\u001b[1;33m(\u001b[0m\u001b[1;33m)\u001b[0m\u001b[1;33m)\u001b[0m\u001b[1;33m\u001b[0m\u001b[1;33m\u001b[0m\u001b[0m\n",
      "\u001b[1;32m~\\Anaconda3\\lib\\site-packages\\sklearn\\linear_model\\base.py\u001b[0m in \u001b[0;36mpredict\u001b[1;34m(self, X)\u001b[0m\n\u001b[0;32m    287\u001b[0m             \u001b[0mPredicted\u001b[0m \u001b[1;32mclass\u001b[0m \u001b[0mlabel\u001b[0m \u001b[0mper\u001b[0m \u001b[0msample\u001b[0m\u001b[1;33m.\u001b[0m\u001b[1;33m\u001b[0m\u001b[1;33m\u001b[0m\u001b[0m\n\u001b[0;32m    288\u001b[0m         \"\"\"\n\u001b[1;32m--> 289\u001b[1;33m         \u001b[0mscores\u001b[0m \u001b[1;33m=\u001b[0m \u001b[0mself\u001b[0m\u001b[1;33m.\u001b[0m\u001b[0mdecision_function\u001b[0m\u001b[1;33m(\u001b[0m\u001b[0mX\u001b[0m\u001b[1;33m)\u001b[0m\u001b[1;33m\u001b[0m\u001b[1;33m\u001b[0m\u001b[0m\n\u001b[0m\u001b[0;32m    290\u001b[0m         \u001b[1;32mif\u001b[0m \u001b[0mlen\u001b[0m\u001b[1;33m(\u001b[0m\u001b[0mscores\u001b[0m\u001b[1;33m.\u001b[0m\u001b[0mshape\u001b[0m\u001b[1;33m)\u001b[0m \u001b[1;33m==\u001b[0m \u001b[1;36m1\u001b[0m\u001b[1;33m:\u001b[0m\u001b[1;33m\u001b[0m\u001b[1;33m\u001b[0m\u001b[0m\n\u001b[0;32m    291\u001b[0m             \u001b[0mindices\u001b[0m \u001b[1;33m=\u001b[0m \u001b[1;33m(\u001b[0m\u001b[0mscores\u001b[0m \u001b[1;33m>\u001b[0m \u001b[1;36m0\u001b[0m\u001b[1;33m)\u001b[0m\u001b[1;33m.\u001b[0m\u001b[0mastype\u001b[0m\u001b[1;33m(\u001b[0m\u001b[0mnp\u001b[0m\u001b[1;33m.\u001b[0m\u001b[0mint\u001b[0m\u001b[1;33m)\u001b[0m\u001b[1;33m\u001b[0m\u001b[1;33m\u001b[0m\u001b[0m\n",
      "\u001b[1;32m~\\Anaconda3\\lib\\site-packages\\sklearn\\linear_model\\base.py\u001b[0m in \u001b[0;36mdecision_function\u001b[1;34m(self, X)\u001b[0m\n\u001b[0;32m    268\u001b[0m         \u001b[1;32mif\u001b[0m \u001b[0mX\u001b[0m\u001b[1;33m.\u001b[0m\u001b[0mshape\u001b[0m\u001b[1;33m[\u001b[0m\u001b[1;36m1\u001b[0m\u001b[1;33m]\u001b[0m \u001b[1;33m!=\u001b[0m \u001b[0mn_features\u001b[0m\u001b[1;33m:\u001b[0m\u001b[1;33m\u001b[0m\u001b[1;33m\u001b[0m\u001b[0m\n\u001b[0;32m    269\u001b[0m             raise ValueError(\"X has %d features per sample; expecting %d\"\n\u001b[1;32m--> 270\u001b[1;33m                              % (X.shape[1], n_features))\n\u001b[0m\u001b[0;32m    271\u001b[0m \u001b[1;33m\u001b[0m\u001b[0m\n\u001b[0;32m    272\u001b[0m         scores = safe_sparse_dot(X, self.coef_.T,\n",
      "\u001b[1;31mValueError\u001b[0m: X has 2 features per sample; expecting 7"
     ]
    }
   ],
   "source": [
    "# Visualiser les résultats\n",
    "\n",
    "X_set, y_set = X_train, y_train\n",
    "X1, X2 = np.meshgrid(np.arange(start = X_set[:, 0].min() - 1, stop = X_set[:, 0].max() + 1, step = 0.01),\n",
    "                     np.arange(start = X_set[:, 1].min() - 1, stop = X_set[:, 1].max() + 1, step = 0.01))\n",
    "plt.contourf(X1, X2, classifier.predict(np.array([X1.ravel(), X2.ravel()]).T).reshape(X1.shape),\n",
    "             alpha = 0.4, cmap = ListedColormap(('red', 'green')))\n",
    "plt.xlim(X1.min(), X1.max())\n",
    "plt.ylim(X2.min(), X2.max())\n",
    "for i, j in enumerate(np.unique(y_set)):\n",
    "    plt.scatter(X_set[y_set == j, 0], X_set[y_set == j, 1],\n",
    "                c = ListedColormap(('red', 'green'))(i), label = j)\n",
    "plt.title('Résultats du Training set')\n",
    "plt.xlabel('Age')\n",
    "plt.ylabel('Salaire Estimé')\n",
    "plt.legend()\n",
    "plt.show()"
   ]
  },
  {
   "cell_type": "code",
   "execution_count": null,
   "metadata": {},
   "outputs": [],
   "source": []
  }
 ],
 "metadata": {
  "kernelspec": {
   "display_name": "Python 3",
   "language": "python",
   "name": "python3"
  },
  "language_info": {
   "codemirror_mode": {
    "name": "ipython",
    "version": 3
   },
   "file_extension": ".py",
   "mimetype": "text/x-python",
   "name": "python",
   "nbconvert_exporter": "python",
   "pygments_lexer": "ipython3",
   "version": "3.7.4"
  }
 },
 "nbformat": 4,
 "nbformat_minor": 2
}
