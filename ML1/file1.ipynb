{
 "cells": [
  {
   "cell_type": "code",
   "execution_count": 8,
   "metadata": {},
   "outputs": [
    {
     "name": "stdout",
     "output_type": "stream",
     "text": [
      "0\n",
      "1\n",
      "1\n",
      "2\n",
      "3\n",
      "5\n",
      "8\n",
      "13\n",
      "21\n",
      "34\n"
     ]
    }
   ],
   "source": [
    "def fibo(n):\n",
    "    if(n<=1):\n",
    "        return n\n",
    "    else:\n",
    "        return(fibo(n-1)+fibo(n-2))\n",
    "    \n",
    "for i in range(10):\n",
    "    print(fibo(i))\n",
    "        "
   ]
  },
  {
   "cell_type": "code",
   "execution_count": 39,
   "metadata": {},
   "outputs": [
    {
     "name": "stdout",
     "output_type": "stream",
     "text": [
      "['alindao', 'Montreal']\n",
      "['bangui', 'alindao']\n",
      "['bangui', 'bambari', 'Longueil', 'Montreal']\n"
     ]
    }
   ],
   "source": [
    "villes= [\"bangui\", \"bambari\",\"alindao\",\"Montreal\"]\n",
    "numbers= [52,15,32,8,95,12]\n",
    "print(villes[2:])\n",
    "print(villes[::2])\n",
    "villes[2]=\"Longueil\"\n",
    "print(villes)"
   ]
  },
  {
   "cell_type": "code",
   "execution_count": 33,
   "metadata": {},
   "outputs": [
    {
     "data": {
      "text/plain": [
       "['Longueil', 'Montreal', 'bambari', 'bonjour', 'bonsoir']"
      ]
     },
     "execution_count": 33,
     "metadata": {},
     "output_type": "execute_result"
    }
   ],
   "source": [
    "#villes_2 =['bonjour','bonsoir']\n",
    "#villes.extend(villes_2)\n",
    "#villes.sort()\n",
    "villes.pop(5)\n",
    "villes"
   ]
  },
  {
   "cell_type": "code",
   "execution_count": 35,
   "metadata": {
    "scrolled": true
   },
   "outputs": [
    {
     "name": "stdout",
     "output_type": "stream",
     "text": [
      "non\n"
     ]
    }
   ],
   "source": [
    "//verification si un element se trouve dans une liste\n",
    "if 'Bangui' in villes:\n",
    "    print('oui')\n",
    "else:\n",
    "    print('non')"
   ]
  },
  {
   "cell_type": "code",
   "execution_count": null,
   "metadata": {},
   "outputs": [],
   "source": []
  },
  {
   "cell_type": "code",
   "execution_count": 40,
   "metadata": {},
   "outputs": [
    {
     "name": "stdout",
     "output_type": "stream",
     "text": [
      "0 bangui\n",
      "1 bambari\n",
      "2 Longueil\n",
      "3 Montreal\n",
      "bangui 52\n",
      "bambari 15\n",
      "Longueil 32\n",
      "Montreal 8\n"
     ]
    }
   ],
   "source": [
    "\"\"\"for i in villes:\n",
    "    print(i)\"\"\"\n",
    "#afficher avec les index\n",
    "for index, value in enumerate(villes):\n",
    "    print(index, value)\n",
    "#affichage avec deux liste\n",
    "for a,b in zip(villes, numbers):\n",
    "    print(a,b)"
   ]
  },
  {
   "cell_type": "code",
   "execution_count": 55,
   "metadata": {},
   "outputs": [
    {
     "name": "stdout",
     "output_type": "stream",
     "text": [
      "Bara mo\n"
     ]
    },
    {
     "data": {
      "text/plain": [
       "{'Bangui': 'RCA', 'Bambari': 'RCA', 'Alindao': 'RCA', 'Birao': 'RCA'}"
      ]
     },
     "execution_count": 55,
     "metadata": {},
     "output_type": "execute_result"
    }
   ],
   "source": [
    "#dictionnaire cle, valeur\n",
    "dict_trad ={ \"Bonjour\":\"Bara mo\",\n",
    "            \"Comment vas tu\": \"moye ke sengue\",\n",
    "            \"comment t'appelles tu\": \"iri ti mo a yeke ngè?\"\n",
    "           }\n",
    "#dict_trad.values()\n",
    "#afficher les clés du dictionnaire\n",
    "dict_trad.keys()\n",
    "\n",
    "#ajouter une valeur dans le dictionnaire\n",
    "dict_trad[\"Merci\"]= \"singuila\"\n",
    "dict_trad\n",
    "#on recherche une valeur dans le dictionnaire\n",
    "print(dict_trad.get(\"Bonjour\", \"aucun resultat\"))\n",
    "\n",
    "#on crée un dictionnaire a partir de la liste des clé avec une valeur par defaut pour tous\n",
    "liste= (\"Bangui\", \"Bambari\", \"Alindao\", \"Birao\")\n",
    "dict_trad.fromkeys(liste, \"RCA\")"
   ]
  },
  {
   "cell_type": "code",
   "execution_count": 1,
   "metadata": {},
   "outputs": [
    {
     "name": "stdout",
     "output_type": "stream",
     "text": [
      "[0, 1, 4, 9, 16, 25, 36, 49, 64, 81]\n"
     ]
    }
   ],
   "source": [
    "list = []\n",
    "\n",
    "for i in range(10):\n",
    "    list.append(i**2)\n",
    "print(list)"
   ]
  },
  {
   "cell_type": "code",
   "execution_count": 2,
   "metadata": {},
   "outputs": [
    {
     "name": "stdout",
     "output_type": "stream",
     "text": [
      "[0, 1, 4, 9, 16, 25, 36, 49, 64, 81]\n"
     ]
    }
   ],
   "source": [
    "#carré de tous les nombre de 0 a 10 avec une liste comprehension\n",
    "liste_2 = [i**2 for i in range (10)]\n",
    "print(liste_2)"
   ]
  },
  {
   "cell_type": "code",
   "execution_count": 6,
   "metadata": {},
   "outputs": [
    {
     "name": "stdout",
     "output_type": "stream",
     "text": [
      "[[0, 1, 2], [1, 2, 3], [2, 3, 4], [3, 4, 5], [4, 5, 6]]\n"
     ]
    }
   ],
   "source": [
    "#si on multiplier quelques choses plusieus fois\n",
    "liste_3= [[i+j for i in range (3)] for j in range (5)]\n",
    "print(liste_3)"
   ]
  }
 ],
 "metadata": {
  "kernelspec": {
   "display_name": "Python 3",
   "language": "python",
   "name": "python3"
  },
  "language_info": {
   "codemirror_mode": {
    "name": "ipython",
    "version": 3
   },
   "file_extension": ".py",
   "mimetype": "text/x-python",
   "name": "python",
   "nbconvert_exporter": "python",
   "pygments_lexer": "ipython3",
   "version": "3.7.4"
  }
 },
 "nbformat": 4,
 "nbformat_minor": 2
}
