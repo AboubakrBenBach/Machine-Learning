{
 "cells": [
  {
   "cell_type": "markdown",
   "metadata": {},
   "source": [
    "# Créer un tableau avec linspace\n"
   ]
  },
  {
   "cell_type": "code",
   "execution_count": 3,
   "metadata": {},
   "outputs": [
    {
     "name": "stdout",
     "output_type": "stream",
     "text": [
      "[0.         0.04938272 0.19753086 0.44444444 0.79012346 1.2345679\n",
      " 1.77777778 2.41975309 3.16049383 4.        ]\n"
     ]
    }
   ],
   "source": [
    "import numpy as np\n",
    "\n",
    "x= np.linspace(0,2,10)\n",
    "y= (x**2)\n",
    "print(y)"
   ]
  },
  {
   "cell_type": "code",
   "execution_count": null,
   "metadata": {},
   "outputs": [],
   "source": []
  },
  {
   "cell_type": "raw",
   "metadata": {},
   "source": [
    "Tracer les graphiques avec matplotlib"
   ]
  },
  {
   "cell_type": "code",
   "execution_count": 4,
   "metadata": {},
   "outputs": [
    {
     "data": {
      "text/plain": [
       "<Figure size 640x480 with 1 Axes>"
      ]
     },
     "metadata": {},
     "output_type": "display_data"
    }
   ],
   "source": [
    "import matplotlib.pyplot as plt\n",
    "#plt.plot(x,y, c='red', lw=5, ls='--')\n",
    "#plt.figure, on crée une figure vide\n",
    "#on indique la taille de la figure\n",
    "#plt.figure(figsize=(12,8))\n",
    "plt.plot(x,y, label='quadratique')\n",
    "plt.plot(x,x**3, label='cubique')\n",
    "plt.title('Exemple de figure')\n",
    "#les nom pour les axes\n",
    "plt.xlabel('Axe x')\n",
    "plt.ylabel('Axe y')\n",
    "#on ajoute une legende\n",
    "plt.legend()\n",
    "plt.show()\n",
    "#pour sauvegarder notre graphe en image\n",
    "plt.savefig('figure1.png')"
   ]
  },
  {
   "cell_type": "markdown",
   "metadata": {},
   "source": [
    "# tracer en nuage de point"
   ]
  },
  {
   "cell_type": "code",
   "execution_count": 5,
   "metadata": {},
   "outputs": [
    {
     "data": {
      "text/plain": [
       "<matplotlib.collections.PathCollection at 0x50dc802488>"
      ]
     },
     "execution_count": 5,
     "metadata": {},
     "output_type": "execute_result"
    },
    {
     "data": {
      "image/png": "[encoded data removed]",
      "text/plain": [
       "<Figure size 432x288 with 1 Axes>"
      ]
     },
     "metadata": {
      "needs_background": "light"
     },
     "output_type": "display_data"
    }
   ],
   "source": [
    "plt.scatter(x,y)"
   ]
  },
  {
   "cell_type": "markdown",
   "metadata": {},
   "source": [
    "# subplot pour créer plusieurs figures sur la meme graphique"
   ]
  },
  {
   "cell_type": "code",
   "execution_count": 6,
   "metadata": {},
   "outputs": [
    {
     "data": {
      "image/png": "[encoded data removed]",
      "text/plain": [
       "<Figure size 432x288 with 4 Axes>"
      ]
     },
     "metadata": {
      "needs_background": "light"
     },
     "output_type": "display_data"
    }
   ],
   "source": [
    "#deux graphique sur la seule figure\n",
    "plt.figure()\n",
    "#deux ligne, une colonne\n",
    "plt.subplot(2,2,3)\n",
    "plt.plot(x, y, c='red')\n",
    "plt.title('fi1')\n",
    "plt.subplot(2,2,4)\n",
    "plt.plot(y, x**2, c='blue')\n",
    "plt.title('fi2')\n",
    "plt.subplot(2,2,1)\n",
    "plt.plot(x, x**3, c='yellow')\n",
    "plt.title('fi3')\n",
    "plt.subplot(2,2,2)\n",
    "plt.plot(x, x**3, c='green')\n",
    "plt.title('fi4')\n",
    "plt.show()"
   ]
  },
  {
   "cell_type": "markdown",
   "metadata": {},
   "source": [
    "import pandas as pd\n",
    "\n",
    "df = pd.read_excel(r\"C:/Users/Aboubakr Ben Bach/Desktop/ML/dataset.xlsx\")\n",
    "\n",
    "#l'affectation des valeurs en target et features\n",
    "features=['LOSN','LOD','LOA','NOFG','NOFR','DOUNIDF','FLFR','TNTS','NOTSD','TLA','TURLTW','ANUT','Mention','MeanTBT','MaxTBT']\n",
    "#features= df.drop('Class', axis=0)\n",
    "target=df['Class']\n",
    "X_train=df[features]\n",
    "y_train=target\n"
   ]
  },
  {
   "cell_type": "code",
   "execution_count": 30,
   "metadata": {},
   "outputs": [
    {
     "data": {
      "text/plain": [
       "array([[8.00000000e+00, 1.32000000e+02, 1.21781291e+03, ...,\n",
       "        7.05000000e-01, 7.89779330e-02, 4.92219765e+02],\n",
       "       [9.00000000e+00, 1.34000000e+02, 1.32953993e+03, ...,\n",
       "        6.56565657e-01, 2.61061947e-01, 3.31255720e+03],\n",
       "       [1.20000000e+01, 1.58000000e+02, 1.27264030e+03, ...,\n",
       "        2.69035533e-01, 2.87014500e-03, 2.84327381e+01],\n",
       "       ...,\n",
       "       [8.00000000e+00, 0.00000000e+00, 5.06944400e-03, ...,\n",
       "        0.00000000e+00, 0.00000000e+00, 2.11197099e+02],\n",
       "       [1.00000000e+01, 0.00000000e+00, 6.14583300e-03, ...,\n",
       "        0.00000000e+00, 0.00000000e+00, 2.11197099e+02],\n",
       "       [7.00000000e+00, 0.00000000e+00, 6.56250000e-03, ...,\n",
       "        0.00000000e+00, 0.00000000e+00, 2.11197099e+02]])"
      ]
     },
     "execution_count": 30,
     "metadata": {},
     "output_type": "execute_result"
    }
   ],
   "source": [
    "X = X_train.iloc[:,:-1].values\n",
    "X"
   ]
  },
  {
   "cell_type": "raw",
   "metadata": {},
   "source": [
    "dataset = df.iloc[:,:-1].values\n",
    "dataset.shape"
   ]
  },
  {
   "cell_type": "markdown",
   "metadata": {},
   "source": [
    "# apres transformation de dataset en tableau numpy on affecte alors "
   ]
  },
  {
   "cell_type": "code",
   "execution_count": 7,
   "metadata": {},
   "outputs": [
    {
     "name": "stdout",
     "output_type": "stream",
     "text": [
      "x_train contient 41499 exemples et 15 variables \n",
      "il ya 2 classes\n"
     ]
    }
   ],
   "source": [
    "print(f'x_train contient {X_train.shape[0]} exemples et {X_train.shape[1]} variables ')\n",
    "print(f'il ya {np.unique(y_train).size} classes')"
   ]
  },
  {
   "cell_type": "code",
   "execution_count": 39,
   "metadata": {},
   "outputs": [],
   "source": [
    "from sklearn.datasets import load_iris\n",
    "\n",
    "iris= load_iris()"
   ]
  },
  {
   "cell_type": "code",
   "execution_count": 43,
   "metadata": {},
   "outputs": [
    {
     "name": "stdout",
     "output_type": "stream",
     "text": [
      "x contient 150 exemples et 4 variables \n",
      "il ya 3 classes\n"
     ]
    }
   ],
   "source": [
    "x=iris.data\n",
    "y=iris.target\n",
    "\n",
    "names= list(iris.target_names)\n",
    "\n",
    "print(f'x contient {x.shape[0]} exemples et {x.shape[1]} variables ')\n",
    "print(f'il ya {np.unique(y).size} classes')"
   ]
  },
  {
   "cell_type": "markdown",
   "metadata": {},
   "source": [
    "# graphique de classification avec scatter"
   ]
  },
  {
   "cell_type": "code",
   "execution_count": 46,
   "metadata": {},
   "outputs": [
    {
     "data": {
      "text/plain": [
       "Text(0, 0.5, 'Largeur du sépal')"
      ]
     },
     "execution_count": 46,
     "metadata": {},
     "output_type": "execute_result"
    },
    {
     "data": {
      "image/png": "[encoded data removed]",
      "text/plain": [
       "<Figure size 432x288 with 1 Axes>"
      ]
     },
     "metadata": {
      "needs_background": "light"
     },
     "output_type": "display_data"
    }
   ],
   "source": [
    "plt.scatter(x[:,0], x[:,1], c=y)\n",
    "plt.xlabel('Longeur du sépal')\n",
    "plt.ylabel('Largeur du sépal')"
   ]
  },
  {
   "cell_type": "markdown",
   "metadata": {},
   "source": [
    "# Graphique 3D"
   ]
  },
  {
   "cell_type": "code",
   "execution_count": 54,
   "metadata": {
    "scrolled": true
   },
   "outputs": [
    {
     "data": {
      "text/plain": [
       "<mpl_toolkits.mplot3d.art3d.Path3DCollection at 0x50ecba1c48>"
      ]
     },
     "execution_count": 54,
     "metadata": {},
     "output_type": "execute_result"
    }
   ],
   "source": [
    "#on charge tout d'abord les graphiques\n",
    "#%matplotlib = permet de visualiser en 3D\n",
    "from mpl_toolkits.mplot3d import Axes3D\n",
    "\n",
    "ax= plt.axes(projection='3d')\n",
    "ax.scatter(x[:,0], x[:,1],x[:,2], c=y)"
   ]
  },
  {
   "cell_type": "markdown",
   "metadata": {},
   "source": [
    "# histogramme"
   ]
  },
  {
   "cell_type": "code",
   "execution_count": 58,
   "metadata": {},
   "outputs": [
    {
     "data": {
      "text/plain": [
       "(array([ 1.,  3.,  4.,  3.,  8., 14., 14., 10., 26., 11., 19., 12.,  6.,\n",
       "         4.,  9.,  2.,  1.,  1.,  1.,  1.]),\n",
       " array([2.  , 2.12, 2.24, 2.36, 2.48, 2.6 , 2.72, 2.84, 2.96, 3.08, 3.2 ,\n",
       "        3.32, 3.44, 3.56, 3.68, 3.8 , 3.92, 4.04, 4.16, 4.28, 4.4 ]),\n",
       " <a list of 20 Patch objects>)"
      ]
     },
     "execution_count": 58,
     "metadata": {},
     "output_type": "execute_result"
    }
   ],
   "source": [
    "#en ajoutant le bins: alors on créer le nombre de colonne dans le hsitogramme\n",
    "plt.hist(x[:,0], bins=20)\n",
    "plt.hist(x[:,1], bins=20)"
   ]
  },
  {
   "cell_type": "code",
   "execution_count": 60,
   "metadata": {},
   "outputs": [
    {
     "data": {
      "text/plain": [
       "<matplotlib.colorbar.Colorbar at 0x50ec972048>"
      ]
     },
     "execution_count": 60,
     "metadata": {},
     "output_type": "execute_result"
    }
   ],
   "source": [
    "#histogramme en 3D\n",
    "plt.hist2d(x[:,0],x[:,1])\n",
    "plt.xlabel('Longeur du sépal')\n",
    "plt.ylabel('Largeur du sépal')\n",
    "plt.colorbar()"
   ]
  }
 ],
 "metadata": {
  "kernelspec": {
   "display_name": "Python 3",
   "language": "python",
   "name": "python3"
  },
  "language_info": {
   "codemirror_mode": {
    "name": "ipython",
    "version": 3
   },
   "file_extension": ".py",
   "mimetype": "text/x-python",
   "name": "python",
   "nbconvert_exporter": "python",
   "pygments_lexer": "ipython3",
   "version": "3.7.4"
  }
 },
 "nbformat": 4,
 "nbformat_minor": 2
}
