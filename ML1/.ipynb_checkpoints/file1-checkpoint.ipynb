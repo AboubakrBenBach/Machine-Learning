{
 "cells": [
  {
   "cell_type": "code",
   "execution_count": 8,
   "metadata": {},
   "outputs": [
    {
     "name": "stdout",
     "output_type": "stream",
     "text": [
      "0\n",
      "1\n",
      "1\n",
      "2\n",
      "3\n",
      "5\n",
      "8\n",
      "13\n",
      "21\n",
      "34\n"
     ]
    }
   ],
   "source": [
    "def fibo(n):\n",
    "    if(n<=1):\n",
    "        return n\n",
    "    else:\n",
    "        return(fibo(n-1)+fibo(n-2))\n",
    "    \n",
    "for i in range(10):\n",
    "    print(fibo(i))\n",
    "        "
   ]
  },
  {
   "cell_type": "code",
   "execution_count": 39,
   "metadata": {},
   "outputs": [
    {
     "name": "stdout",
     "output_type": "stream",
     "text": [
      "['alindao', 'Montreal']\n",
      "['bangui', 'alindao']\n",
      "['bangui', 'bambari', 'Longueil', 'Montreal']\n"
     ]
    }
   ],
   "source": [
    "villes= [\"bangui\", \"bambari\",\"alindao\",\"Montreal\"]\n",
    "numbers= [52,15,32,8,95,12]\n",
    "print(villes[2:])\n",
    "print(villes[::2])\n",
    "villes[2]=\"Longueil\"\n",
    "print(villes)"
   ]
  },
  {
   "cell_type": "code",
   "execution_count": 33,
   "metadata": {},
   "outputs": [
    {
     "data": {
      "text/plain": [
       "['Longueil', 'Montreal', 'bambari', 'bonjour', 'bonsoir']"
      ]
     },
     "execution_count": 33,
     "metadata": {},
     "output_type": "execute_result"
    }
   ],
   "source": [
    "#villes_2 =['bonjour','bonsoir']\n",
    "#villes.extend(villes_2)\n",
    "#villes.sort()\n",
    "villes.pop(5)\n",
    "villes"
   ]
  },
  {
   "cell_type": "code",
   "execution_count": 35,
   "metadata": {
    "scrolled": true
   },
   "outputs": [
    {
     "name": "stdout",
     "output_type": "stream",
     "text": [
      "non\n"
     ]
    }
   ],
   "source": [
    "//verification si un element se trouve dans une liste\n",
    "if 'Bangui' in villes:\n",
    "    print('oui')\n",
    "else:\n",
    "    print('non')"
   ]
  },
  {
   "cell_type": "code",
   "execution_count": null,
   "metadata": {},
   "outputs": [],
   "source": []
  },
  {
   "cell_type": "code",
   "execution_count": 40,
   "metadata": {},
   "outputs": [
    {
     "name": "stdout",
     "output_type": "stream",
     "text": [
      "0 bangui\n",
      "1 bambari\n",
      "2 Longueil\n",
      "3 Montreal\n",
      "bangui 52\n",
      "bambari 15\n",
      "Longueil 32\n",
      "Montreal 8\n"
     ]
    }
   ],
   "source": [
    "\"\"\"for i in villes:\n",
    "    print(i)\"\"\"\n",
    "#afficher avec les index\n",
    "for index, value in enumerate(villes):\n",
    "    print(index, value)\n",
    "#affichage avec deux liste\n",
    "for a,b in zip(villes, numbers):\n",
    "    print(a,b)"
   ]
  },
  {
   "cell_type": "code",
   "execution_count": 42,
   "metadata": {},
   "outputs": [],
   "source": [
    "#dictionnaire cle, valeur\n",
    "dict_trad ={ \"Bonjour\":\"Bara mo\",\n",
    "    \"Comment vas tu\": \"moye ke sengue\",\n",
    "    \"comment t'appelles tu\": \"iri ti mo a yeke ngè?\"\n",
    "}\n",
    " "
   ]
  }
 ],
 "metadata": {
  "kernelspec": {
   "display_name": "Python 3",
   "language": "python",
   "name": "python3"
  },
  "language_info": {
   "codemirror_mode": {
    "name": "ipython",
    "version": 3
   },
   "file_extension": ".py",
   "mimetype": "text/x-python",
   "name": "python",
   "nbconvert_exporter": "python",
   "pygments_lexer": "ipython3",
   "version": "3.7.4"
  }
 },
 "nbformat": 4,
 "nbformat_minor": 2
}
