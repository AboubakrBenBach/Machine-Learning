{
 "cells": [
  {
   "cell_type": "code",
   "execution_count": 4,
   "metadata": {},
   "outputs": [],
   "source": [
    "f =open('file.txt', 'w')\n",
    "f.write('le data data')\n",
    "f.close()"
   ]
  },
  {
   "cell_type": "code",
   "execution_count": 2,
   "metadata": {},
   "outputs": [
    {
     "data": {
      "text/plain": [
       "'le data data'"
      ]
     },
     "execution_count": 2,
     "metadata": {},
     "output_type": "execute_result"
    }
   ],
   "source": [
    "f =open('file.txt', 'r')\n",
    "f.read()"
   ]
  },
  {
   "cell_type": "code",
   "execution_count": 15,
   "metadata": {},
   "outputs": [],
   "source": [
    "with open('file.txt', 'w') as f:\n",
    "    for i in range(10):\n",
    "        f.write(\"{}^2 = {} \\n\".format(i, i**2))\n"
   ]
  },
  {
   "cell_type": "code",
   "execution_count": 14,
   "metadata": {},
   "outputs": [
    {
     "name": "stdout",
     "output_type": "stream",
     "text": [
      "\n"
     ]
    }
   ],
   "source": [
    "with open('file.txt', 'r') as f:\n",
    "    print(f.read())"
   ]
  },
  {
   "cell_type": "code",
   "execution_count": 26,
   "metadata": {},
   "outputs": [
    {
     "name": "stdout",
     "output_type": "stream",
     "text": [
      "2.95\n"
     ]
    }
   ],
   "source": [
    "#module package\n",
    "import statistics\n",
    "list = [4,3.7, 3.3, 3.3, 2.7, 2.3,2.3, 2]\n",
    "print(statistics.mean(list))\n"
   ]
  },
  {
   "cell_type": "code",
   "execution_count": 27,
   "metadata": {},
   "outputs": [
    {
     "data": {
      "text/plain": [
       "'C:\\\\Users\\\\Aboubakr Ben Bach\\\\Desktop\\\\ML\\\\python'"
      ]
     },
     "execution_count": 27,
     "metadata": {},
     "output_type": "execute_result"
    }
   ],
   "source": [
    "#retourne le chemin\n",
    "import os\n",
    "os.getcwd()"
   ]
  },
  {
   "cell_type": "code",
   "execution_count": 29,
   "metadata": {},
   "outputs": [
    {
     "data": {
      "text/plain": [
       "['comment.txt', 'file.txt']"
      ]
     },
     "execution_count": 29,
     "metadata": {},
     "output_type": "execute_result"
    }
   ],
   "source": [
    "import glob\n",
    "#glob qui permet de nous afficher tous les fichier du repertoir dans le quel on se retrouve\n",
    "glob.glob(\"*.txt\")"
   ]
  },
  {
   "cell_type": "code",
   "execution_count": 34,
   "metadata": {},
   "outputs": [
    {
     "name": "stdout",
     "output_type": "stream",
     "text": [
      "{'comment.txt': ['print(villes[-1]) //pour acceder aux derniers elements', '', '//technique de slicing on index de 0 a 3', 'print(villes[0:3])', 'print(villes[:3])', 'print(villes[2:])', '//imprime tous les elements avec un pas', 'print(villes[::2])', '', \"//append: permet d'ajouter un element a la fin de la liste\", \"villes.append('Abbbb')\", '', \"//insert: permet d'ajouter un element a au milieu de la liste\", \"villes.insert(2,'Abbbb')\", '', \"//insert: permet d'ajouter une liste dansl la liste\", \"villes_2 =['bonjour','bonsoir']\", 'villes.extend(villes_2)', '', '//trier la liste', 'villes.sort() //trier par ordre alphabetique', 'villes.sort(reverse=True)', '', '//compter le nombre de fois', \"villes.count('Paris')\", '', '//dictionnaire *', 'dict ={ \"Bonjour\":\"Bara mo\",', '\\t\"Comment vas tu\": \"moye ke sengue\"', '\\t}', ' ', '//list comprehension et dict comprehension', \"//inserer la boucle for a l'interieur de la liste elle meme\"], 'file.txt': ['0^2 = 0 ', '1^2 = 1 ', '2^2 = 4 ', '3^2 = 9 ', '4^2 = 16 ', '5^2 = 25 ', '6^2 = 36 ', '7^2 = 49 ', '8^2 = 64 ', '9^2 = 81 ']}\n"
     ]
    }
   ],
   "source": [
    "import glob\n",
    "#glob qui permet de nous afficher tous les fichier du repertoir dans le quel on se retrouve\n",
    "filename = glob.glob(\"*.txt\")\n",
    "#on crée un dictionnaire\n",
    "d={}\n",
    "for file in filename:\n",
    "    with open(file, 'r') as f:\n",
    "        d[file]= f.read().splitlines()\n",
    "print(d)"
   ]
  }
 ],
 "metadata": {
  "kernelspec": {
   "display_name": "Python 3",
   "language": "python",
   "name": "python3"
  },
  "language_info": {
   "codemirror_mode": {
    "name": "ipython",
    "version": 3
   },
   "file_extension": ".py",
   "mimetype": "text/x-python",
   "name": "python",
   "nbconvert_exporter": "python",
   "pygments_lexer": "ipython3",
   "version": "3.7.4"
  }
 },
 "nbformat": 4,
 "nbformat_minor": 2
}
